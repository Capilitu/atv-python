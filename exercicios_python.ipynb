{
 "cells": [
  {
   "cell_type": "markdown",
   "id": "b057f335",
   "metadata": {},
   "source": [
    "# Exercício 1: Peça ao usuário um número e diga se ele é par ou ímpar."
   ]
  },
  {
   "cell_type": "code",
   "execution_count": 7,
   "id": "e1fd0c38",
   "metadata": {},
   "outputs": [
    {
     "name": "stdout",
     "output_type": "stream",
     "text": [
      "é par\n"
     ]
    }
   ],
   "source": [
    "num = int(input('Digite um numero:'))\n",
    "if(num % 2 == 0):\n",
    "    print('é par')\n",
    "elif(num % 2 !=0):\n",
    "    print('é impar')\n",
    "else:\n",
    "    print('nao')\n",
    "    "
   ]
  },
  {
   "cell_type": "markdown",
   "id": "0f51e595",
   "metadata": {},
   "source": [
    "# Exercício 2: Leia a idade de uma pessoa e informe se ela é menor de idade, adulta ou idosa (>= 60)."
   ]
  },
  {
   "cell_type": "code",
   "execution_count": 8,
   "id": "b8bff903",
   "metadata": {},
   "outputs": [
    {
     "name": "stdout",
     "output_type": "stream",
     "text": [
      "Você é adulto\n"
     ]
    }
   ],
   "source": [
    "idade = int(input('Digite sua idade'))\n",
    "if(idade <= 17):\n",
    "    print('Você é criança')\n",
    "elif(idade >= 18):\n",
    "    print('Você é adulto')\n",
    "elif(idade >= 60):\n",
    "    print('Você é muito VELHO')\n"
   ]
  },
  {
   "cell_type": "markdown",
   "id": "d14c3125",
   "metadata": {},
   "source": [
    "# Exercício 3: Peça duas notas e calcule a média. Diga se o aluno está aprovado (média >= 7)."
   ]
  },
  {
   "cell_type": "code",
   "execution_count": 14,
   "id": "9a1481a7",
   "metadata": {},
   "outputs": [
    {
     "name": "stdout",
     "output_type": "stream",
     "text": [
      "tu ta aprovado\n",
      "7.0\n"
     ]
    }
   ],
   "source": [
    "nota1 = float(input('Digite a sua primeira nota:'))\n",
    "nota2 = float(input('Digite a sua segunda nota:'))\n",
    "\n",
    "media = (nota1 + nota2)/2 \n",
    "\n",
    "if(media >= 7):\n",
    "    print('tu ta aprovado')\n",
    "    print(media)\n",
    "elif(media <= 7):\n",
    "    print('tu e burro e não passou')\n",
    "    print(media)\n"
   ]
  },
  {
   "cell_type": "markdown",
   "id": "fbd11a3d",
   "metadata": {},
   "source": [
    "# Exercício 4: Solicite o nome de uma pessoa e diga se ele começa com a letra 'A'."
   ]
  },
  {
   "cell_type": "code",
   "execution_count": 16,
   "id": "4472f0d7",
   "metadata": {},
   "outputs": [
    {
     "name": "stdout",
     "output_type": "stream",
     "text": [
      "Seu nome começa com a letra \"A\".\n"
     ]
    }
   ],
   "source": [
    "nome = str(input('Digite seu nome:'))\n",
    "\n",
    "if(nome[0] == 'A' or nome[0] =='a'):\n",
    "    print('Seu nome começa com a letra \"A\".')\n",
    "else:\n",
    "    print('Seu nome nao começa com a letra \"A\".')"
   ]
  },
  {
   "cell_type": "markdown",
   "id": "9a6ecffb",
   "metadata": {},
   "source": [
    "# Exercício 5: Peça um número inteiro e verifique se ele é positivo, negativo ou zero."
   ]
  },
  {
   "cell_type": "code",
   "execution_count": 29,
   "id": "78453c72",
   "metadata": {},
   "outputs": [
    {
     "name": "stdout",
     "output_type": "stream",
     "text": [
      "-1  é um número negativo\n"
     ]
    }
   ],
   "source": [
    "num = int(input('Digite um número inteiro:'))\n",
    "\n",
    "if(num == 0):\n",
    "    print(num, ' é zero')\n",
    "elif(num >= 0):\n",
    "    print(num,' é um número positivo')\n",
    "elif(num <= 0):\n",
    "    print(num, ' é um número negativo')\n"
   ]
  },
  {
   "cell_type": "markdown",
   "id": "ed41b4ca",
   "metadata": {},
   "source": [
    "# Exercício 6: Imprima os números de 1 a 10 com for."
   ]
  },
  {
   "cell_type": "code",
   "execution_count": 35,
   "id": "efb34a6c",
   "metadata": {},
   "outputs": [
    {
     "name": "stdout",
     "output_type": "stream",
     "text": [
      "1\n",
      "2\n",
      "3\n",
      "4\n",
      "5\n",
      "6\n",
      "7\n",
      "8\n",
      "9\n",
      "10\n"
     ]
    }
   ],
   "source": [
    "for i in range(10):\n",
    " print(i+1)"
   ]
  },
  {
   "cell_type": "markdown",
   "id": "83163c5e",
   "metadata": {},
   "source": [
    "# Exercício 7: Imprima os números de 10 a 1 com while."
   ]
  },
  {
   "cell_type": "code",
   "execution_count": 36,
   "id": "28c47327",
   "metadata": {},
   "outputs": [
    {
     "name": "stdout",
     "output_type": "stream",
     "text": [
      "10\n",
      "9\n",
      "8\n",
      "7\n",
      "6\n",
      "5\n",
      "4\n",
      "3\n",
      "2\n",
      "1\n"
     ]
    }
   ],
   "source": [
    "numero = 10\n",
    "while numero > 0:\n",
    "    print(numero)\n",
    "    numero -= 1"
   ]
  },
  {
   "cell_type": "markdown",
   "id": "408ae015",
   "metadata": {},
   "source": [
    "# Exercício 8: Calcule a soma dos números de 1 a 100."
   ]
  },
  {
   "cell_type": "code",
   "execution_count": null,
   "id": "b6835c14",
   "metadata": {},
   "outputs": [],
   "source": [
    "\n",
    "for i in range(1,101):\n",
    "    soma = soma + i   \n",
    "    \n",
    "print(soma)"
   ]
  },
  {
   "cell_type": "markdown",
   "id": "ec740a27",
   "metadata": {},
   "source": [
    "# Exercício 9: Peça 5 números ao usuário e diga qual é o maior."
   ]
  },
  {
   "cell_type": "code",
   "execution_count": 227,
   "id": "c4e65c0a",
   "metadata": {},
   "outputs": [
    {
     "name": "stdout",
     "output_type": "stream",
     "text": [
      "O maior número digitado foi: {10}\n"
     ]
    }
   ],
   "source": [
    "maior_numero = 0\n",
    "for i in range(5):\n",
    "    numero = int(input(f\"Digite o {i+1}º número: \"))\n",
    "    if (numero > maior_numero):\n",
    "        maior_numero = numero\n",
    "\n",
    "print('O maior número digitado foi:' ,{maior_numero})"
   ]
  },
  {
   "cell_type": "markdown",
   "id": "3916a505",
   "metadata": {},
   "source": [
    "# Exercício 10: Peça números ao usuário até que ele digite 0, e então exiba a média dos valores digitados."
   ]
  },
  {
   "cell_type": "code",
   "execution_count": 228,
   "id": "a7c8729f",
   "metadata": {},
   "outputs": [
    {
     "name": "stdout",
     "output_type": "stream",
     "text": [
      "Média: 9.55\n"
     ]
    }
   ],
   "source": [
    "soma = 0\n",
    "quantidade = 0\n",
    "\n",
    "for i in range(1000):\n",
    "    numero = int(input(\"Digite um número (0 para sair): \"))\n",
    "    if (numero == 0):\n",
    "        break\n",
    "    soma += numero\n",
    "    quantidade += 1\n",
    "\n",
    "if (quantidade > 0):\n",
    "    media = soma / quantidade\n",
    "    print(\"Média:\", media)\n",
    "else:\n",
    "    print(\"Nenhum número foi digitado.\")"
   ]
  },
  {
   "cell_type": "markdown",
   "id": "5178e752",
   "metadata": {},
   "source": [
    "# Exercício 11: Crie uma lista com 5 números digitados pelo usuário e imprima a lista."
   ]
  },
  {
   "cell_type": "code",
   "execution_count": 229,
   "id": "5f40ed1a",
   "metadata": {},
   "outputs": [
    {
     "name": "stdout",
     "output_type": "stream",
     "text": [
      "Lista de números digitados: [1, 2, 3, 4, 6]\n"
     ]
    }
   ],
   "source": [
    "lista = []\n",
    "\n",
    "for i in range(5):\n",
    "    numero = int(input(\"Digite um número: \"))\n",
    "    lista.append(numero)\n",
    "\n",
    "print(\"Lista de números digitados:\", lista)"
   ]
  },
  {
   "cell_type": "markdown",
   "id": "0983311d",
   "metadata": {},
   "source": [
    "# Exercício 12: Some todos os elementos de uma lista."
   ]
  },
  {
   "cell_type": "code",
   "execution_count": 257,
   "id": "5f5d23a3",
   "metadata": {},
   "outputs": [
    {
     "name": "stdout",
     "output_type": "stream",
     "text": [
      "Lista de números digitados: [5, 5, 5, 5, 5]\n",
      "25\n"
     ]
    }
   ],
   "source": [
    "lista = []\n",
    "soma = 0\n",
    "k = 0\n",
    "for i in range(5):\n",
    "    numero = int(input(\"Digite um número: \"))\n",
    "    lista.append(numero)\n",
    "\n",
    "print(\"Lista de números digitados:\", lista)\n",
    "\n",
    "for j in range(5):\n",
    "    soma += lista [j]\n",
    "print(soma)\n",
    "\n",
    "\n"
   ]
  },
  {
   "cell_type": "markdown",
   "id": "84c598b8",
   "metadata": {},
   "source": [
    "# Exercício 12+1: Encontre o maior e o menor valor de uma lista."
   ]
  },
  {
   "cell_type": "code",
   "execution_count": null,
   "id": "ceb0f310",
   "metadata": {},
   "outputs": [
    {
     "name": "stdout",
     "output_type": "stream",
     "text": [
      "Lista de números digitados: [5, 4, 3, 2, 1]\n",
      "[1, 2, 3, 4, 5]\n",
      "O menor número é:  1\n",
      "O maior número é:  5\n"
     ]
    }
   ],
   "source": [
    "lista = []\n",
    "soma = 0\n",
    "\n",
    "for i in range(5):\n",
    "    numero = int(input(\"Digite um número: \"))\n",
    "    lista.append(numero)\n",
    "\n",
    "print(\"Lista de números digitados:\", lista)\n",
    "lista_crescente = sorted(lista)\n",
    "\n",
    "\n",
    "print(lista_crescente)\n",
    "print('O menor número é: ', lista_crescente[0])\n",
    "print('O maior número é: ', lista_crescente[4])\n",
    " \n",
    "\n",
    "\n"
   ]
  },
  {
   "cell_type": "markdown",
   "id": "b3401528",
   "metadata": {},
   "source": [
    "# Exercício 14: Conte quantos números pares existem em uma lista."
   ]
  },
  {
   "cell_type": "code",
   "execution_count": 279,
   "id": "1b87a5ce",
   "metadata": {},
   "outputs": [
    {
     "name": "stdout",
     "output_type": "stream",
     "text": [
      "Lista de números digitados: [1, 2, 4, 6, 7]\n",
      "[1, 2, 4, 6, 7]\n",
      "Você digitou  3 números pares\n"
     ]
    }
   ],
   "source": [
    "lista = []\n",
    "soma = 0\n",
    "\n",
    "for i in range(5):\n",
    "    numero = int(input(\"Digite um número: \"))\n",
    "    lista.append(numero)\n",
    "\n",
    "print(\"Lista de números digitados:\", lista)\n",
    "\n",
    "count=0\n",
    "\n",
    "for i in range(5):\n",
    "    if(lista[i] % 2 == 0):\n",
    "        count+=1\n",
    "\n",
    "lista_crescente = sorted(lista)\n",
    "print(lista_crescente)\n",
    "print('Você digitou ',count,'números pares')\n",
    "\n",
    "\n"
   ]
  },
  {
   "cell_type": "markdown",
   "id": "f5ff5c1b",
   "metadata": {},
   "source": [
    "# Exercício 15: Peça uma lista de nomes e diga quantos começam com a letra 'M'."
   ]
  },
  {
   "cell_type": "code",
   "execution_count": null,
   "id": "76400be8",
   "metadata": {},
   "outputs": [
    {
     "name": "stdout",
     "output_type": "stream",
     "text": [
      "Lista de números digitados: ['mamada', 'mamada', 'mamae', 'me', 'ais']\n",
      "Você digitou  4 letras \"M\"\n"
     ]
    }
   ],
   "source": [
    "lista = []\n",
    "soma = 0\n",
    "\n",
    "for i in range(5):\n",
    "    letra = str(input(\"Digite um número: \"))\n",
    "    lista.append(letra)\n",
    "\n",
    "print(\"Lista de números digitados:\", lista)\n",
    "\n",
    "count=0\n",
    "\n",
    "for i in range(5):\n",
    "    if(lista[i][0] == 'm' or lista[i][0] == 'M'):\n",
    "        count+=1\n",
    "\n",
    "\n",
    "print('Você digitou ',count,'palavras que começam com a letra \"M\"')\n",
    "\n"
   ]
  },
  {
   "cell_type": "markdown",
   "id": "72d0dc42",
   "metadata": {},
   "source": [
    "# Desafio 1: Peça ao usuário uma quantidade de alunos e, para cada um, o nome e duas notas. Armazene em listas e exiba a média de cada aluno."
   ]
  },
  {
   "cell_type": "code",
   "execution_count": null,
   "id": "c7ac75b2",
   "metadata": {},
   "outputs": [],
   "source": []
  },
  {
   "cell_type": "markdown",
   "id": "27300b0d",
   "metadata": {},
   "source": [
    "# Desafio 2: Gere uma lista com os números de 1 a 20, mas apenas os múltiplos de 3."
   ]
  },
  {
   "cell_type": "code",
   "execution_count": null,
   "id": "30371484",
   "metadata": {},
   "outputs": [],
   "source": []
  },
  {
   "cell_type": "markdown",
   "id": "1505ef2a",
   "metadata": {},
   "source": [
    "# Desafio 3: Peça ao usuário 10 números e exiba quais são primos."
   ]
  },
  {
   "cell_type": "code",
   "execution_count": null,
   "id": "58dcb059",
   "metadata": {},
   "outputs": [],
   "source": []
  },
  {
   "cell_type": "markdown",
   "id": "d1f38556",
   "metadata": {},
   "source": [
    "# Desafio 4: Dada uma lista de números, crie uma nova lista apenas com os valores únicos (sem repetições)."
   ]
  },
  {
   "cell_type": "code",
   "execution_count": null,
   "id": "1babc947",
   "metadata": {},
   "outputs": [],
   "source": []
  },
  {
   "cell_type": "markdown",
   "id": "9e3f4031",
   "metadata": {},
   "source": [
    "# Desafio 5: Crie um programa que simula um menu de opções (ex: cadastrar item, listar itens, sair), usando while e if."
   ]
  },
  {
   "cell_type": "code",
   "execution_count": null,
   "id": "6098900f",
   "metadata": {},
   "outputs": [],
   "source": []
  }
 ],
 "metadata": {
  "kernelspec": {
   "display_name": ".venv",
   "language": "python",
   "name": "python3"
  },
  "language_info": {
   "codemirror_mode": {
    "name": "ipython",
    "version": 3
   },
   "file_extension": ".py",
   "mimetype": "text/x-python",
   "name": "python",
   "nbconvert_exporter": "python",
   "pygments_lexer": "ipython3",
   "version": "3.13.6"
  }
 },
 "nbformat": 4,
 "nbformat_minor": 5
}
